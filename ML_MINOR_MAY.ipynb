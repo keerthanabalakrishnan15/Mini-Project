{
  "nbformat": 4,
  "nbformat_minor": 0,
  "metadata": {
    "colab": {
      "name": "ML-MINOR-MAY.ipynb",
      "provenance": [],
      "authorship_tag": "ABX9TyN61RpUaL/bL14AtUjJ3lYa",
      "include_colab_link": true
    },
    "kernelspec": {
      "name": "python3",
      "display_name": "Python 3"
    },
    "language_info": {
      "name": "python"
    }
  },
  "cells": [
    {
      "cell_type": "markdown",
      "metadata": {
        "id": "view-in-github",
        "colab_type": "text"
      },
      "source": [
        "<a href=\"https://colab.research.google.com/github/keerthanabalakrishnan15/Mini-Project/blob/main/ML_MINOR_MAY.ipynb\" target=\"_parent\"><img src=\"https://colab.research.google.com/assets/colab-badge.svg\" alt=\"Open In Colab\"/></a>"
      ]
    },
    {
      "cell_type": "code",
      "metadata": {
        "colab": {
          "base_uri": "https://localhost:8080/"
        },
        "id": "C3CqMTVZNhgH",
        "outputId": "dcbf2844-54e2-45f7-c46d-f3e8b830b334"
      },
      "source": [
        "!pip install bing-image-downloader "
      ],
      "execution_count": 1,
      "outputs": [
        {
          "output_type": "stream",
          "text": [
            "Collecting bing-image-downloader\n",
            "  Downloading https://files.pythonhosted.org/packages/2c/f9/e827c690d0df1ec2f2f27cf0fb3d1f944c5c56253f8d3750ccaff051b3d3/bing_image_downloader-1.1.0-py3-none-any.whl\n",
            "Installing collected packages: bing-image-downloader\n",
            "Successfully installed bing-image-downloader-1.1.0\n"
          ],
          "name": "stdout"
        }
      ]
    },
    {
      "cell_type": "code",
      "metadata": {
        "id": "nkobHqqHTuTm"
      },
      "source": [
        "!mkdir images\n"
      ],
      "execution_count": 2,
      "outputs": []
    },
    {
      "cell_type": "code",
      "metadata": {
        "colab": {
          "base_uri": "https://localhost:8080/"
        },
        "id": "_t1ZEz5yUCGf",
        "outputId": "99862b41-f0c7-4047-8cf6-d6c4716e2da5"
      },
      "source": [
        "from bing_image_downloader import downloader\n",
        "downloader.download(\"scooty\",limit=50,output_dir='images')"
      ],
      "execution_count": 3,
      "outputs": [
        {
          "output_type": "stream",
          "text": [
            "[%] Downloading Images to /content/images/scooty\n",
            "\n",
            "\n",
            "[!!]Indexing page: 1\n",
            "\n",
            "[%] Indexed 50 Images on Page 1.\n",
            "\n",
            "===============================================\n",
            "\n",
            "[%] Downloading Image #1 from https://images.assettype.com/freepressjournal%2Fimport%2F2016%2F04%2Fscooty.png?w=1200&amp;auto=format%2Ccompress&amp;ogImage=true\n",
            "[%] File Downloaded !\n",
            "\n",
            "[%] Downloading Image #2 from https://blog.gaadikey.com/wp-content/uploads/2019/04/TVS-Scooty_Red.jpg\n",
            "[%] File Downloaded !\n",
            "\n",
            "[%] Downloading Image #3 from http://www.xyj.in/wp-content/uploads/2015/09/TVS-Scooty-Pep-Plus.jpg\n",
            "[%] File Downloaded !\n",
            "\n",
            "[%] Downloading Image #4 from https://bikes.bestcarmag.com/sites/default/files/tvs/scooty-teenz/2011/2011-tvs-scooty-teenz-85518-61.jpg\n",
            "[%] File Downloaded !\n",
            "\n",
            "[%] Downloading Image #5 from http://blog.quikr.com/wp-content/uploads/2015/10/Vespa-SXL-150-blue-colour-option.jpg\n",
            "[%] File Downloaded !\n",
            "\n",
            "[%] Downloading Image #6 from https://images.financialexpress.com/2018/06/maestro-edge-BS4-12-660x440.jpg?w=660&amp;h=440&amp;imflag=true\n",
            "[%] File Downloaded !\n",
            "\n",
            "[%] Downloading Image #7 from https://n2.sdlcdn.com/imgs/b/s/4/TVS-Scooty-Zest-110-SDL110329059-1-b51e4.jpg\n",
            "[%] File Downloaded !\n",
            "\n",
            "[%] Downloading Image #8 from http://cdn.thinglink.me/api/image/763818655233343488/1024/10/scaletowidth/0/0/1/1/false/true?wait=true\n",
            "[%] File Downloaded !\n",
            "\n",
            "[%] Downloading Image #9 from https://gumlet.assettype.com/Prabhatkhabar%2F2020-10%2F8cae46d3-f547-4757-9d7c-1ef9d9c32344%2Ftvs_jupiter_offers.jpg?w=1200&amp;auto=format%2Ccompress&amp;ogImage=true\n",
            "[Error]Invalid image, not saving https://gumlet.assettype.com/Prabhatkhabar%2F2020-10%2F8cae46d3-f547-4757-9d7c-1ef9d9c32344%2Ftvs_jupiter_offers.jpg?w=1200&amp;auto=format%2Ccompress&amp;ogImage=true\n",
            "\n",
            "[!] Issue getting: https://gumlet.assettype.com/Prabhatkhabar%2F2020-10%2F8cae46d3-f547-4757-9d7c-1ef9d9c32344%2Ftvs_jupiter_offers.jpg?w=1200&amp;auto=format%2Ccompress&amp;ogImage=true\n",
            "[!] Error:: Invalid image, not saving https://gumlet.assettype.com/Prabhatkhabar%2F2020-10%2F8cae46d3-f547-4757-9d7c-1ef9d9c32344%2Ftvs_jupiter_offers.jpg?w=1200&amp;auto=format%2Ccompress&amp;ogImage=true\n",
            "\n",
            "[%] Downloading Image #9 from https://im.rediff.com/getahead/2012/jul/07sld-yamaha-ray-3.jpg\n",
            "[%] File Downloaded !\n",
            "\n",
            "[%] Downloading Image #10 from https://5.imimg.com/data5/WW/PK/MY-40050670/tvs-scooty-streak-282013-29-500x500.jpg\n",
            "[%] File Downloaded !\n",
            "\n",
            "[%] Downloading Image #11 from https://www.motoroids.com/wp-content/uploads/2016/07/TVS-Scooty-Zest-110-Motoroids-Get-on-the-Road-20-1200x800.jpg\n",
            "[%] File Downloaded !\n",
            "\n",
            "[%] Downloading Image #12 from https://n2.sdlcdn.com/imgs/b/u/s/TVS-Scooty-Pep-SDL103803002-1-74543.jpg\n",
            "[%] File Downloaded !\n",
            "\n",
            "[%] Downloading Image #13 from https://n4.sdlcdn.com/imgs/b/3/8/Happy-Kids-Ride-on-Electric-SDL645079928-1-2e69e.jpg\n",
            "[%] File Downloaded !\n",
            "\n",
            "[%] Downloading Image #14 from https://images.financialexpress.com/2018/10/Hero-Duet-125-660x440.jpg?w=660&amp;h=440&amp;imflag=true\n",
            "[%] File Downloaded !\n",
            "\n",
            "[%] Downloading Image #15 from https://www.cars24.com/blog/wp-content/uploads/2020/08/244-2447518_bikes-tvs-scooty.jpg\n",
            "[!] Issue getting: https://www.cars24.com/blog/wp-content/uploads/2020/08/244-2447518_bikes-tvs-scooty.jpg\n",
            "[!] Error:: HTTP Error 404: Not Found\n",
            "[%] Downloading Image #15 from https://akm-img-a-in.tosshub.com/sites/btmt/images/stories/scooty-zest_660_082014070130_100814051652.jpg\n",
            "[%] File Downloaded !\n",
            "\n",
            "[%] Downloading Image #16 from https://www.extrachai.com/wp-content/uploads/2018/03/fascino.jpg\n",
            "[%] File Downloaded !\n",
            "\n",
            "[%] Downloading Image #17 from https://bikes.bestcarmag.com/sites/default/files/tvs/scooty/2007/2007-tvs-scooty-97154-321.png\n",
            "[%] File Downloaded !\n",
            "\n",
            "[%] Downloading Image #18 from https://bikes.bestcarmag.com/sites/default/files/tvs/scooty-pep/2010/2010-tvs-scooty-pep-97176-310.jpg\n",
            "[%] File Downloaded !\n",
            "\n",
            "[%] Downloading Image #19 from https://images.financialexpress.com/2018/08/burgman-1.jpg?w=660&amp;h=440&amp;imflag=true\n",
            "[%] File Downloaded !\n",
            "\n",
            "[%] Downloading Image #20 from https://lh5.googleusercontent.com/proxy/qaEtzQYNAW3bSL2xKRWP-4yC51XtRV-MMaPhi0qUfGyES65sWr2f-AO9QAB8kHg8cFrQiVhi9-0_f9wr0FSvAl0CfyRZjszMK-V7qWoO5I5J6gHQIQjdKMMHJQee1BQhr-Zh0tgNHBeg2WDrQl9mVQ5NinP_hmK2njnRLiLgwE4pzBj8=w1200-h630-p-k-no-nu\n",
            "[%] File Downloaded !\n",
            "\n",
            "[%] Downloading Image #21 from https://n3.sdlcdn.com/imgs/f/7/s/Vsquare-TVS-Scooty-Zest-110-SDL736712382-1-01bc2.jpg\n",
            "[%] File Downloaded !\n",
            "\n",
            "[%] Downloading Image #22 from https://images.financialexpress.com/2018/02/TVS-Ntorq-6-800x533.jpg?w=800&amp;h=534&amp;imflag=true\n",
            "[%] File Downloaded !\n",
            "\n",
            "[%] Downloading Image #23 from https://5.imimg.com/data5/YR/KN/MY-40050670/tvs-scooty-pep-282012-29-used-bike-500x500.jpg\n",
            "[%] File Downloaded !\n",
            "\n",
            "[%] Downloading Image #24 from https://bd.gaadicdn.com/processedimages/tvs/tvs-scooty/source/scooty-pep-plus_white_cloud_1568886399.jpg\n",
            "[%] File Downloaded !\n",
            "\n",
            "[%] Downloading Image #25 from https://bikes.bestcarmag.com/sites/default/files/tvs/scooty-pep/2010/2010-tvs-scooty-pep-97176-423.png\n",
            "[%] File Downloaded !\n",
            "\n",
            "[%] Downloading Image #26 from http://imgd8.aeplcdn.com/642x361/bikewaleimg/used/S32623/32623_20150716112910670_640x428.jpg\n",
            "[%] File Downloaded !\n",
            "\n",
            "[%] Downloading Image #27 from https://n3.sdlcdn.com/imgs/f/7/s/Vsquare-Piaggio-Vespa-Fly-Scooty-SDL984668943-1-0c5cf.jpg\n",
            "[%] File Downloaded !\n",
            "\n",
            "[%] Downloading Image #28 from https://images.financialexpress.com/2020/01/6-11.jpg?w=800&amp;h=533&amp;imflag=true\n",
            "[%] File Downloaded !\n",
            "\n",
            "[%] Downloading Image #29 from https://5.imimg.com/data5/LC/VA/GLADMIN-10988205/scooty-500x500.jpg\n",
            "[%] File Downloaded !\n",
            "\n",
            "[%] Downloading Image #30 from https://n3.sdlcdn.com/imgs/f/7/s/Vsquare-TVS-Scooty-Streak-Scooty-SDL618170445-1-537a4.jpg\n",
            "[%] File Downloaded !\n",
            "\n",
            "[%] Downloading Image #31 from https://5.imimg.com/data5/LA/LW/MY-40050670/1487329197_bc_20170217_132932-500x500.jpg\n",
            "[%] File Downloaded !\n",
            "\n",
            "[%] Downloading Image #32 from https://www.carblogindia.com/wp-content/uploads/2017/05/modified-tvs-scooty-pep-ktm-duke-125.png\n",
            "[%] File Downloaded !\n",
            "\n",
            "[%] Downloading Image #33 from https://cdn.autoportal.com/bp-v3/img/models/15/5/yamaha-z-1464785913.jpg\n",
            "[%] File Downloaded !\n",
            "\n",
            "[%] Downloading Image #34 from https://www.electro.pl/media/cache/gallery/product/3/696/476/192/6vafpb9i/images/24/2441442/MOTUS-Scooty-8-5-Czarno-turkusowy-skos.jpg\n",
            "[%] File Downloaded !\n",
            "\n",
            "[%] Downloading Image #35 from https://images.financialexpress.com/2020/02/honda-activa-4.jpg?w=800&amp;h=533&amp;imflag=true\n",
            "[%] File Downloaded !\n",
            "\n",
            "[%] Downloading Image #36 from https://n2.sdlcdn.com/imgs/a/e/5/SDL677797686_1382363140_image1-87f02.jpg\n",
            "[%] File Downloaded !\n",
            "\n",
            "[%] Downloading Image #37 from https://cdn.pricesofindia.com/src/bikes/yamaha/ray-z/Yamaha-Ray-Z-Available-Colors-True-Blue.jpg\n",
            "[%] File Downloaded !\n",
            "\n",
            "[%] Downloading Image #38 from https://5.imimg.com/data5/CN/RL/MY-40050670/suzuki-access-282012-29-500x500.jpg\n",
            "[%] File Downloaded !\n",
            "\n",
            "[%] Downloading Image #39 from https://5.imimg.com/data5/KK/TH/MY-40050670/suzuki-access-282011-29-500x500.jpg\n",
            "[%] File Downloaded !\n",
            "\n",
            "[%] Downloading Image #40 from https://images.financialexpress.com/2018/06/660X440-5.jpg?w=660&amp;h=440&amp;imflag=true\n",
            "[%] File Downloaded !\n",
            "\n",
            "[%] Downloading Image #41 from http://bikeadvice.in/wp-content/uploads/2012/01/Yamaha-Prototype-Scooter.jpg\n",
            "[%] File Downloaded !\n",
            "\n",
            "[%] Downloading Image #42 from https://5.imimg.com/data5/AR/YF/MY-40050670/yamaha-alpha-282014-29-used-bike-500x500.jpg\n",
            "[%] File Downloaded !\n",
            "\n",
            "[%] Downloading Image #43 from https://www.electro.pl/media/cache/gallery/product/1/477/796/284/hiahczze/images/24/2441442/MOTUS-Scooty-8-5-Czarno-turkusowy-bok.jpg\n",
            "[%] File Downloaded !\n",
            "\n",
            "[%] Downloading Image #44 from https://www.littleshop.in/wp-content/uploads/2020/09/super-1.jpg\n",
            "[%] File Downloaded !\n",
            "\n",
            "[%] Downloading Image #45 from https://www.littleshop.in/wp-content/uploads/2020/09/ben-large.jpg\n",
            "[%] File Downloaded !\n",
            "\n",
            "[%] Downloading Image #46 from https://i.ytimg.com/vi/agM7ojboivs/maxresdefault.jpg\n",
            "[%] File Downloaded !\n",
            "\n",
            "[%] Downloading Image #47 from https://www.bgsbuniversity.org/wp-content/uploads/2021/02/Jio-Scooty-Online-Booking-Fact-Check.jpg\n",
            "[%] File Downloaded !\n",
            "\n",
            "[%] Downloading Image #48 from https://www.littleshop.in/wp-content/uploads/2020/09/Super-5-large.jpg\n",
            "[%] File Downloaded !\n",
            "\n",
            "\n",
            "\n",
            "[!!]Indexing page: 2\n",
            "\n",
            "[%] Indexed 35 Images on Page 2.\n",
            "\n",
            "===============================================\n",
            "\n",
            "[%] Downloading Image #49 from https://images.assettype.com/freepressjournal%2Fimport%2F2016%2F04%2Fscooty.png?w=1200&amp;auto=format%2Ccompress&amp;ogImage=true\n",
            "[%] File Downloaded !\n",
            "\n",
            "[%] Downloading Image #50 from https://blog.gaadikey.com/wp-content/uploads/2019/04/TVS-Scooty_Red.jpg\n",
            "[%] File Downloaded !\n",
            "\n",
            "\n",
            "\n",
            "[%] Done. Downloaded 50 images.\n",
            "===============================================\n",
            "\n",
            "Please show your support here\n",
            "https://www.buymeacoffee.com/gurugaurav\n",
            "\n",
            "===============================================\n",
            "\n"
          ],
          "name": "stdout"
        }
      ]
    },
    {
      "cell_type": "code",
      "metadata": {
        "colab": {
          "base_uri": "https://localhost:8080/"
        },
        "id": "kgqKT7LfXXGS",
        "outputId": "7ff2b4b8-c2b9-469e-9e05-26ef176214a4"
      },
      "source": [
        "from bing_image_downloader import downloader\n",
        "downloader.download(\"car\",limit=50,output_dir='images')"
      ],
      "execution_count": 4,
      "outputs": [
        {
          "output_type": "stream",
          "text": [
            "[%] Downloading Images to /content/images/car\n",
            "\n",
            "\n",
            "[!!]Indexing page: 1\n",
            "\n",
            "[%] Indexed 50 Images on Page 1.\n",
            "\n",
            "===============================================\n",
            "\n",
            "[%] Downloading Image #1 from http://www.carbodydesign.com/archive/2009/08/05-sv-9-competizione-images/SV-9-Competizione-4-lg.jpg\n",
            "[%] File Downloaded !\n",
            "\n",
            "[%] Downloading Image #2 from https://static.carthrottle.com/workspace/uploads/posts/2017/12/0fcad9c9368abebdbfb8aaf0211bf96b.jpg\n",
            "[%] File Downloaded !\n",
            "\n",
            "[%] Downloading Image #3 from http://jaikrishnaamaruti.com/uploads/truevalue_cars/0_27-01-2018_16-03-53.jpg\n",
            "[%] File Downloaded !\n",
            "\n",
            "[%] Downloading Image #4 from https://icdn-4.motor1.com/images/mgl/8gJ93/s1/amc-amx-the-first-true-sports-car-of-the-1960s.jpg\n",
            "[%] File Downloaded !\n",
            "\n",
            "[%] Downloading Image #5 from https://daxstreet.com/wp-content/uploads/2020/12/gtr-1024x576.jpg\n",
            "[%] File Downloaded !\n",
            "\n",
            "[%] Downloading Image #6 from http://farm9.staticflickr.com/8012/7170866083_8504026441_o.jpg\n",
            "[%] File Downloaded !\n",
            "\n",
            "[%] Downloading Image #7 from http://smclassiccars.com/uploads/postfotos/1970-pontiac-gto-matching-039s-400-m20-4-speed-posi-true-american-muscle-1.jpg\n",
            "[%] File Downloaded !\n",
            "\n",
            "[%] Downloading Image #8 from https://musclecarwarehouse.com.au/wp-content/uploads/2018/12/IMG_7245-1024x768.jpg\n",
            "[%] File Downloaded !\n",
            "\n",
            "[%] Downloading Image #9 from https://static.bangkokpost.com/media/content/20200909/3743947.jpg\n",
            "[%] File Downloaded !\n",
            "\n",
            "[%] Downloading Image #10 from http://dmi3w0goirzgw.cloudfront.net/gallery-images/1600/406000/600/406638.jpg\n",
            "[%] File Downloaded !\n",
            "\n",
            "[%] Downloading Image #11 from https://media.whatcar.com/wc-image/2021-01/true_mpg_award_winner_-_toyota_yaris.jpg\n",
            "[%] File Downloaded !\n",
            "\n",
            "[%] Downloading Image #12 from https://i.ytimg.com/vi/L4ASPTYAokQ/maxresdefault.jpg\n",
            "[%] File Downloaded !\n",
            "\n",
            "[%] Downloading Image #13 from https://2.bp.blogspot.com/-pFg1wU-N6AM/U1AKuZTk5TI/AAAAAAAAUbg/IUYFPGxrhEA/s1600/boss302-4lr.jpg\n",
            "[%] File Downloaded !\n",
            "\n",
            "[%] Downloading Image #14 from http://jaikrishnaamaruti.com/uploads/truevalue_cars/0_13-08-2020_12-54-32.jpeg\n",
            "[%] File Downloaded !\n",
            "\n",
            "[%] Downloading Image #15 from https://farm5.staticflickr.com/4110/5027971302_35ec2b05d5_z.jpg\n",
            "[%] File Downloaded !\n",
            "\n",
            "[%] Downloading Image #16 from https://i.kinja-img.com/gawker-media/image/upload/c_fill,f_auto,fl_progressive,g_center,h_675,pg_1,q_80,w_1200/cht5zan2fi2af6jifsvk.jpg\n",
            "[%] File Downloaded !\n",
            "\n",
            "[%] Downloading Image #17 from http://i2.cdn.turner.com/money/dam/assets/150216140433-nokia-here-true-car-780x439.jpg\n",
            "[%] File Downloaded !\n",
            "\n",
            "[%] Downloading Image #18 from https://media.whatcar.com/migration/article_inline/31e233fabca887757aba0bb56028fce65792efc4.jpg\n",
            "[%] File Downloaded !\n",
            "\n",
            "[%] Downloading Image #19 from http://st.lowrider.com/uploads/sites/7/2016/07/switch-car-club-2016-day-at-the-bay-true-life-1965-buick-riviera.jpg\n",
            "[%] File Downloaded !\n",
            "\n",
            "[%] Downloading Image #20 from http://jaikrishnaamaruti.com/uploads/truevalue_cars/1_06-03-2018_11-36-40.jpg\n",
            "[%] File Downloaded !\n",
            "\n",
            "[%] Downloading Image #21 from https://i.pinimg.com/originals/b3/a6/47/b3a64770647364851c25139fc1d26c92.jpg\n",
            "[%] File Downloaded !\n",
            "\n",
            "[%] Downloading Image #22 from https://i.pinimg.com/originals/fa/4c/23/fa4c2399643cda2f7495f234a7d59f77.png\n",
            "[%] File Downloaded !\n",
            "\n",
            "[%] Downloading Image #23 from https://s.hdnux.com/photos/56/23/61/12139605/3/920x920.jpg\n",
            "[%] File Downloaded !\n",
            "\n",
            "[%] Downloading Image #24 from https://cdn.carbuzz.com/gallery-images/840x560/406000/600/406646.jpg\n",
            "[%] File Downloaded !\n",
            "\n",
            "[%] Downloading Image #25 from http://jaikrishnaamaruti.com/uploads/truevalue_cars/0_06-03-2018_11-36-40.jpg\n",
            "[%] File Downloaded !\n",
            "\n",
            "[%] Downloading Image #26 from https://i.pinimg.com/originals/4b/cc/60/4bcc60ef5497f1ac8fddb4b88dc31b5f.jpg\n",
            "[%] File Downloaded !\n",
            "\n",
            "[%] Downloading Image #27 from http://farm8.staticflickr.com/7411/10414280056_61c166f466_z.jpg\n",
            "[%] File Downloaded !\n",
            "\n",
            "[%] Downloading Image #28 from https://musclecarwarehouse.com.au/wp-content/uploads/2018/12/IMG_7244-762x456.jpg\n",
            "[%] File Downloaded !\n",
            "\n",
            "[%] Downloading Image #29 from http://jaikrishnaamaruti.com/uploads/truevalue_cars/0_06-03-2018_14-16-55.jpg\n",
            "[%] File Downloaded !\n",
            "\n",
            "[%] Downloading Image #30 from https://automotiveimpressions.net/wp-content/uploads/2020/11/Hellcat20-F.jpg\n",
            "[%] File Downloaded !\n",
            "\n",
            "[%] Downloading Image #31 from http://jaikrishnaamaruti.com/uploads/truevalue_cars/1_15-10-2016_11-06-49.jpg\n",
            "[%] File Downloaded !\n",
            "\n",
            "[%] Downloading Image #32 from http://jaikrishnaamaruti.com/uploads/truevalue_cars/1_06-03-2018_11-56-10.jpg\n",
            "[%] File Downloaded !\n",
            "\n",
            "[%] Downloading Image #33 from https://cdn-news.warriortrading.com/wp-content/uploads/2017/02/19182100/TRUE-Logo.jpg\n",
            "[%] File Downloaded !\n",
            "\n",
            "[%] Downloading Image #34 from https://2.bp.blogspot.com/-o_GFAdQ5-PY/TaYDPjhUVCI/AAAAAAAAACA/IKN5XtQGUgc/s1600/1.jpg\n",
            "[%] File Downloaded !\n",
            "\n",
            "[%] Downloading Image #35 from http://jaikrishnaamaruti.com/uploads/truevalue_cars/1_29-09-2016_12-56-34.jpg\n",
            "[%] File Downloaded !\n",
            "\n",
            "[%] Downloading Image #36 from https://media.whatcar.com/migration/reviews/95bb3932f4af6d8e2009d2c4c484b9318428e0c1.jpg\n",
            "[%] File Downloaded !\n",
            "\n",
            "[%] Downloading Image #37 from http://jaikrishnaamaruti.com/uploads/truevalue_cars/0_15-10-2020_10-03-43.jpeg\n",
            "[%] File Downloaded !\n",
            "\n",
            "[%] Downloading Image #38 from https://www.amosauto.com/wp-content/uploads/c07-0812ae.jpg\n",
            "[%] File Downloaded !\n",
            "\n",
            "[%] Downloading Image #39 from http://img07.deviantart.net/a37e/i/2014/203/8/6/true_american_muscle_car_by_toyonda-d7rr5e8.jpg\n",
            "[%] File Downloaded !\n",
            "\n",
            "[%] Downloading Image #40 from https://www.porschecentrenorthtoronto.ca/images/dealer_images/733/uploads/gallery_images/22553096_10159394756305034_4771806745877948610_o.jpg\n",
            "[Error]Invalid image, not saving https://www.porschecentrenorthtoronto.ca/images/dealer_images/733/uploads/gallery_images/22553096_10159394756305034_4771806745877948610_o.jpg\n",
            "\n",
            "[!] Issue getting: https://www.porschecentrenorthtoronto.ca/images/dealer_images/733/uploads/gallery_images/22553096_10159394756305034_4771806745877948610_o.jpg\n",
            "[!] Error:: Invalid image, not saving https://www.porschecentrenorthtoronto.ca/images/dealer_images/733/uploads/gallery_images/22553096_10159394756305034_4771806745877948610_o.jpg\n",
            "\n",
            "[%] Downloading Image #40 from http://jaikrishnaamaruti.com/uploads/truevalue_cars/3_10-09-2016_12-41-14.jpg\n",
            "[%] File Downloaded !\n",
            "\n",
            "[%] Downloading Image #41 from https://images.ctfassets.net/h52as2aiqybp/1Rb2TVz3n9Rc0DtZQxqGyT/ad91f459891afbca24931d1b233f9117/TrueCarlogonew.png\n",
            "[%] File Downloaded !\n",
            "\n",
            "[%] Downloading Image #42 from http://jaikrishnaamaruti.com/uploads/truevalue_cars/0_17-10-2016_13-07-35.jpg\n",
            "[%] File Downloaded !\n",
            "\n",
            "[%] Downloading Image #43 from http://jaikrishnaamaruti.com/uploads/truevalue_cars/1_14-08-2020_10-51-03.jpeg\n",
            "[%] File Downloaded !\n",
            "\n",
            "[%] Downloading Image #44 from https://i2.wp.com/namastecar.com/wp-content/uploads/2017/11/Get-quality-pre-owned-car-from-Maruti-Suzuki-True-Value.jpg\n",
            "[%] File Downloaded !\n",
            "\n",
            "[%] Downloading Image #45 from https://media.bizj.us/view/img/10428487/bloomberg-car-dealership*1200xx4000-2250-0-209.jpg\n",
            "[%] File Downloaded !\n",
            "\n",
            "[%] Downloading Image #46 from http://www.thedetroitbureau.com/wp-content/uploads/2011/08/TrueCar-Logo.jpg\n",
            "[%] File Downloaded !\n",
            "\n",
            "[%] Downloading Image #47 from https://photos.prnewswire.com/prnfull/20110118/LA31413LOGO\n",
            "[%] File Downloaded !\n",
            "\n",
            "[%] Downloading Image #48 from https://yt3.ggpht.com/a-/AAuE7mALGC_R3AcUGBgtGhF9e-Bdb3JhYeo53mniPA=s900-mo-c-c0xffffffff-rj-k-no\n",
            "[%] File Downloaded !\n",
            "\n",
            "[%] Downloading Image #49 from https://pictures.dealer.com/l/lakenormancdjcllc/1738/c34f1576fe349a67beadb84323c0cd7cx.jpg\n",
            "[%] File Downloaded !\n",
            "\n",
            "\n",
            "\n",
            "[!!]Indexing page: 2\n",
            "\n",
            "[%] Indexed 35 Images on Page 2.\n",
            "\n",
            "===============================================\n",
            "\n",
            "[%] Downloading Image #50 from http://www.carbodydesign.com/archive/2009/08/05-sv-9-competizione-images/SV-9-Competizione-4-lg.jpg\n",
            "[%] File Downloaded !\n",
            "\n",
            "\n",
            "\n",
            "[%] Done. Downloaded 50 images.\n",
            "===============================================\n",
            "\n",
            "Please show your support here\n",
            "https://www.buymeacoffee.com/gurugaurav\n",
            "\n",
            "===============================================\n",
            "\n"
          ],
          "name": "stdout"
        }
      ]
    },
    {
      "cell_type": "code",
      "metadata": {
        "colab": {
          "base_uri": "https://localhost:8080/"
        },
        "id": "ROJxnpdNYonl",
        "outputId": "4c0cb2e3-d481-43a3-d037-39905f3b326a"
      },
      "source": [
        "from bing_image_downloader import downloader\n",
        "downloader.download(\"heavy truck\",limit=30,output_dir='images')"
      ],
      "execution_count": 5,
      "outputs": [
        {
          "output_type": "stream",
          "text": [
            "[%] Downloading Images to /content/images/heavy truck\n",
            "\n",
            "\n",
            "[!!]Indexing page: 1\n",
            "\n",
            "[%] Indexed 30 Images on Page 1.\n",
            "\n",
            "===============================================\n",
            "\n",
            "[%] Downloading Image #1 from https://www.tenfourmagazine.com/content/wp-content/uploads/sites/1/nggallery/feb2019cover/FebCvrStry16.jpg\n",
            "[%] File Downloaded !\n",
            "\n",
            "[%] Downloading Image #2 from https://i.pinimg.com/originals/fa/e0/70/fae070f29b42d1ec80fc7f253ff975aa.jpg\n",
            "[%] File Downloaded !\n",
            "\n",
            "[%] Downloading Image #3 from https://i.pinimg.com/originals/af/8c/de/af8cdea6b3a6f9a2f59094fdd5385c5a.jpg\n",
            "[%] File Downloaded !\n",
            "\n",
            "[%] Downloading Image #4 from http://thecarsoftulelake.com/wp-content/uploads/2018/06/2017-06-29-21.07.42-1200x750.jpg\n",
            "[%] File Downloaded !\n",
            "\n",
            "[%] Downloading Image #5 from http://thecarsoftulelake.com/wp-content/uploads/2018/06/2017-06-29-21.08.17-1200x750.jpg\n",
            "[%] File Downloaded !\n",
            "\n",
            "[%] Downloading Image #6 from https://i.pinimg.com/736x/a2/12/21/a21221b1776662253cc896811320b742.jpg\n",
            "[%] File Downloaded !\n",
            "\n",
            "[%] Downloading Image #7 from https://truetowing.com/wp-content/uploads/true-towing-red-truck.jpeg\n",
            "[%] File Downloaded !\n",
            "\n",
            "[%] Downloading Image #8 from https://jingletruck.com/img/1995-peterbilt-379-tri-axle-heavy-hauler-truck-detroit-diesel-15-spd-no-reserve-262197254970-4.jpg\n",
            "[%] File Downloaded !\n",
            "\n",
            "[%] Downloading Image #9 from https://i.pinimg.com/originals/ac/8e/70/ac8e706a4eeb23cc81158c2425f66a1d.jpg\n",
            "[%] File Downloaded !\n",
            "\n",
            "[%] Downloading Image #10 from https://live.staticflickr.com/65535/50918751458_3a7e04e213_b.jpg\n",
            "[%] File Downloaded !\n",
            "\n",
            "[%] Downloading Image #11 from https://i.pinimg.com/originals/89/85/df/8985df46c28293b290b3d820ca101a7d.jpg\n",
            "[%] File Downloaded !\n",
            "\n",
            "[%] Downloading Image #12 from https://i.pinimg.com/736x/b7/89/e9/b789e9cd6c3c902106f91aa67346ed15.jpg\n",
            "[%] File Downloaded !\n",
            "\n",
            "[%] Downloading Image #13 from https://i.pinimg.com/originals/05/18/22/051822ced879b53843e870273a6967bc.jpg\n",
            "[%] File Downloaded !\n",
            "\n",
            "[%] Downloading Image #14 from https://i.pinimg.com/736x/c3/fc/ce/c3fcce4563167f906df0e37dcf9bac55--kenworth-trucks-dump-trucks.jpg\n",
            "[%] File Downloaded !\n",
            "\n",
            "[%] Downloading Image #15 from http://thecarsoftulelake.com/wp-content/uploads/2018/06/2017-06-29-20.53.27-1-1200x750.jpg\n",
            "[%] File Downloaded !\n",
            "\n",
            "[%] Downloading Image #16 from https://i.pinimg.com/originals/6b/d0/85/6bd085f5966b23a73ba4ed654132f5be.jpg\n",
            "[%] File Downloaded !\n",
            "\n",
            "[%] Downloading Image #17 from https://i.pinimg.com/originals/b0/3d/96/b03d96abc996105f5b3a2a96a7bd652a.jpg\n",
            "[%] File Downloaded !\n",
            "\n",
            "[%] Downloading Image #18 from https://roaddogtrucksales.com/wp-content/uploads/2019/06/IMG_0197.jpeg\n",
            "[%] File Downloaded !\n",
            "\n",
            "[%] Downloading Image #19 from https://fleetimages.bobitstudios.com/upload/trucking-info/content/article/2019-11/equipment/isuzu-ftr-3.jpg\n",
            "[%] File Downloaded !\n",
            "\n",
            "[%] Downloading Image #20 from https://jingletruck.com/img/1982-peterbilt-362-coe-one-owner-old-school-is-still-cool-a-true-survivor-122164753269-3.jpg\n",
            "[%] File Downloaded !\n",
            "\n",
            "[%] Downloading Image #21 from https://hips.hearstapps.com/hmg-prod.s3.amazonaws.com/images/1-hwike8mp-htid1mjkuz2hq-1520618545.jpeg?resize=768:*\n",
            "[%] File Downloaded !\n",
            "\n",
            "[%] Downloading Image #22 from https://i.pinimg.com/originals/f2/ab/2f/f2ab2fd466d5374e5ea9fc2d0dd273ba.jpg\n",
            "[%] File Downloaded !\n",
            "\n",
            "[%] Downloading Image #23 from https://www.tenfourmagazine.com/content/wp-content/uploads/2013/09/OctOTTpic.jpg\n",
            "[%] File Downloaded !\n",
            "\n",
            "[%] Downloading Image #24 from https://i.pinimg.com/originals/ad/53/4e/ad534ed432096c2013d59d4a33fc9531.jpg\n",
            "[%] File Downloaded !\n",
            "\n",
            "[%] Downloading Image #25 from http://thecarsoftulelake.com/wp-content/uploads/2018/06/2017-06-29-21.08.33-1200x750.jpg\n",
            "[%] File Downloaded !\n",
            "\n",
            "[%] Downloading Image #26 from https://i.pinimg.com/originals/76/94/2c/76942c2cdff26092c252a531d051d3d4.jpg\n",
            "[%] File Downloaded !\n",
            "\n",
            "[%] Downloading Image #27 from https://c1.staticflickr.com/7/6106/6286493077_79f83e99a4_b.jpg\n",
            "[Error]Invalid image, not saving https://c1.staticflickr.com/7/6106/6286493077_79f83e99a4_b.jpg\n",
            "\n",
            "[!] Issue getting: https://c1.staticflickr.com/7/6106/6286493077_79f83e99a4_b.jpg\n",
            "[!] Error:: Invalid image, not saving https://c1.staticflickr.com/7/6106/6286493077_79f83e99a4_b.jpg\n",
            "\n",
            "[%] Downloading Image #27 from http://thecarsoftulelake.com/wp-content/uploads/2018/06/2017-06-29-21.07.54-1200x750.jpg\n",
            "[%] File Downloaded !\n",
            "\n",
            "[%] Downloading Image #28 from https://i.pinimg.com/originals/1d/0b/bc/1d0bbc74d4b473ae36477f23ff7ac30c.jpg\n",
            "[%] File Downloaded !\n",
            "\n",
            "[%] Downloading Image #29 from https://i.ytimg.com/vi/0jdhjMx9DMQ/maxresdefault.jpg\n",
            "[%] File Downloaded !\n",
            "\n",
            "\n",
            "\n",
            "[!!]Indexing page: 2\n",
            "\n",
            "[%] Indexed 35 Images on Page 2.\n",
            "\n",
            "===============================================\n",
            "\n",
            "[%] Downloading Image #30 from https://www.tenfourmagazine.com/content/wp-content/uploads/sites/1/nggallery/feb2019cover/FebCvrStry16.jpg\n",
            "[%] File Downloaded !\n",
            "\n",
            "\n",
            "\n",
            "[%] Done. Downloaded 30 images.\n",
            "===============================================\n",
            "\n",
            "Please show your support here\n",
            "https://www.buymeacoffee.com/gurugaurav\n",
            "\n",
            "===============================================\n",
            "\n"
          ],
          "name": "stdout"
        }
      ]
    },
    {
      "cell_type": "code",
      "metadata": {
        "id": "am3nPxczZl3d"
      },
      "source": [
        "#preprocessing\n",
        "\n",
        "import os\n",
        "import matplotlib.pyplot as plt\n",
        "import numpy as np\n",
        "from skimage.io import imread\n",
        "from skimage.transform import resize\n",
        "\n",
        "target = []\n",
        "images = []\n",
        "flat_data = []\n",
        "\n",
        "DATADIR = '/content/images'\n",
        "CATEGORIES = ['scooty','car','heavy truck']\n",
        "\n",
        "for category in CATEGORIES:\n",
        "    class_num = CATEGORIES.index(category)\n",
        "    path = os.path.join(DATADIR,category)\n",
        "    for img in os.listdir(path):\n",
        "      img_arr = imread(os.path.join(path,img))\n",
        "      img_resized = resize(img_arr,(150,150,3))\n",
        "      flat_data.append(img_resized.flatten())\n",
        "      images.append(img_resized)\n",
        "      target.append(class_num)\n",
        "\n",
        "flat_data = np.array(flat_data)\n",
        "target = np.array(target)\n",
        "images = np.array(images)"
      ],
      "execution_count": 6,
      "outputs": []
    },
    {
      "cell_type": "code",
      "metadata": {
        "id": "xLplxK5yg2yo"
      },
      "source": [
        "from sklearn.model_selection import train_test_split\n",
        "x_train,x_test,y_train,y_test = train_test_split(flat_data,target,test_size=.3,random_state=109)\n"
      ],
      "execution_count": 7,
      "outputs": []
    },
    {
      "cell_type": "code",
      "metadata": {
        "colab": {
          "base_uri": "https://localhost:8080/"
        },
        "id": "phE8FjoWjTzN",
        "outputId": "6a8de49c-3615-478b-81d5-f2ae82d6e4e9"
      },
      "source": [
        "from sklearn.model_selection import GridSearchCV\n",
        "from sklearn import svm\n",
        "param_grid = [\n",
        "              { 'C':[1,10,100,1000],'kernel':['linear']},\n",
        "              { 'C':[1,10,100,1000],'gamma':[0.001,0.0001],'kernel':['rbf']},\n",
        "]\n",
        "svc = svm.SVC(probability=True)\n",
        "clf = GridSearchCV(svc,param_grid)\n",
        "clf.fit(x_train,y_train)\n"
      ],
      "execution_count": 8,
      "outputs": [
        {
          "output_type": "execute_result",
          "data": {
            "text/plain": [
              "GridSearchCV(cv=None, error_score=nan,\n",
              "             estimator=SVC(C=1.0, break_ties=False, cache_size=200,\n",
              "                           class_weight=None, coef0=0.0,\n",
              "                           decision_function_shape='ovr', degree=3,\n",
              "                           gamma='scale', kernel='rbf', max_iter=-1,\n",
              "                           probability=True, random_state=None, shrinking=True,\n",
              "                           tol=0.001, verbose=False),\n",
              "             iid='deprecated', n_jobs=None,\n",
              "             param_grid=[{'C': [1, 10, 100, 1000], 'kernel': ['linear']},\n",
              "                         {'C': [1, 10, 100, 1000], 'gamma': [0.001, 0.0001],\n",
              "                          'kernel': ['rbf']}],\n",
              "             pre_dispatch='2*n_jobs', refit=True, return_train_score=False,\n",
              "             scoring=None, verbose=0)"
            ]
          },
          "metadata": {
            "tags": []
          },
          "execution_count": 8
        }
      ]
    },
    {
      "cell_type": "code",
      "metadata": {
        "colab": {
          "base_uri": "https://localhost:8080/"
        },
        "id": "oM2A5dLApiZ0",
        "outputId": "dc0b2ed5-4138-4950-b790-2faea54b2e1e"
      },
      "source": [
        "y_pred = clf.predict(x_test)\n",
        "y_pred"
      ],
      "execution_count": 9,
      "outputs": [
        {
          "output_type": "execute_result",
          "data": {
            "text/plain": [
              "array([2, 0, 0, 0, 1, 0, 1, 1, 2, 2, 1, 2, 1, 1, 0, 2, 1, 1, 0, 0, 0, 0,\n",
              "       0, 1, 1, 2, 1, 1, 0, 2, 0, 2, 0, 2, 1, 1, 2, 1, 1])"
            ]
          },
          "metadata": {
            "tags": []
          },
          "execution_count": 9
        }
      ]
    },
    {
      "cell_type": "code",
      "metadata": {
        "colab": {
          "base_uri": "https://localhost:8080/"
        },
        "id": "Cq_T6wFApxSa",
        "outputId": "dc5c86de-76ef-4da1-b776-042504ab7f93"
      },
      "source": [
        "y_test\n"
      ],
      "execution_count": 10,
      "outputs": [
        {
          "output_type": "execute_result",
          "data": {
            "text/plain": [
              "array([2, 2, 1, 1, 1, 0, 1, 1, 2, 1, 1, 0, 1, 2, 0, 0, 1, 1, 1, 0, 0, 0,\n",
              "       0, 1, 2, 1, 2, 1, 0, 2, 0, 1, 0, 2, 1, 1, 2, 1, 0])"
            ]
          },
          "metadata": {
            "tags": []
          },
          "execution_count": 10
        }
      ]
    },
    {
      "cell_type": "code",
      "metadata": {
        "id": "pIuyVdOup6z7"
      },
      "source": [
        "from sklearn.metrics import accuracy_score,confusion_matrix"
      ],
      "execution_count": 11,
      "outputs": []
    },
    {
      "cell_type": "code",
      "metadata": {
        "colab": {
          "base_uri": "https://localhost:8080/"
        },
        "id": "GdbmiZZMqg7x",
        "outputId": "06b8e9e9-f10b-419e-a459-1896c580d039"
      },
      "source": [
        "accuracy_score(y_pred,y_test)"
      ],
      "execution_count": 12,
      "outputs": [
        {
          "output_type": "execute_result",
          "data": {
            "text/plain": [
              "0.6666666666666666"
            ]
          },
          "metadata": {
            "tags": []
          },
          "execution_count": 12
        }
      ]
    },
    {
      "cell_type": "code",
      "metadata": {
        "colab": {
          "base_uri": "https://localhost:8080/"
        },
        "id": "7vYXamDIrOd5",
        "outputId": "d766667c-33af-4c5f-dc82-3cbbdd5688d4"
      },
      "source": [
        "confusion_matrix(y_pred,y_test)"
      ],
      "execution_count": 13,
      "outputs": [
        {
          "output_type": "execute_result",
          "data": {
            "text/plain": [
              "array([[ 9,  3,  1],\n",
              "       [ 1, 12,  3],\n",
              "       [ 2,  3,  5]])"
            ]
          },
          "metadata": {
            "tags": []
          },
          "execution_count": 13
        }
      ]
    },
    {
      "cell_type": "code",
      "metadata": {
        "id": "W9oOzDIHrbod"
      },
      "source": [
        "import pickle\n",
        "pickle.dump(clf,open('img_model.p','wb'))"
      ],
      "execution_count": 14,
      "outputs": []
    },
    {
      "cell_type": "code",
      "metadata": {
        "id": "dim0ahLJr7Ky"
      },
      "source": [
        "model = pickle.load(open('img_model.p','rb'))"
      ],
      "execution_count": 15,
      "outputs": []
    },
    {
      "cell_type": "code",
      "metadata": {
        "colab": {
          "base_uri": "https://localhost:8080/",
          "height": 320
        },
        "id": "yW-QUOZVsgR5",
        "outputId": "e15b42ff-ebe5-407d-de1d-984f3fe8d7f8"
      },
      "source": [
        "#testing\n",
        "flat_data = []\n",
        "url = input('ENTER THE URL')\n",
        "# car test url = https://images.all-free-download.com/images/graphiclarge/nissan_silver_514647.jpg\n",
        "# scooty test url = https://imgd.aeplcdn.com/476x268/bw/models/tvs-scooty-pep-plus-bs-vi20200401185937.jpg\n",
        "# heavy test url = https://images.all-free-download.com/images/graphicthumb/heavy_equipment_187329.jpg\n",
        "\n",
        "img = imread(url)\n",
        "img_resized = resize(img,(150,150,3))\n",
        "flat_data.append(img_resized.flatten())\n",
        "flat_data = np.array(flat_data)\n",
        "print(img.shape)\n",
        "plt.imshow(img_resized)\n",
        "y_out = model.predict(flat_data)\n",
        "y_out = CATEGORIES[y_out[0]]\n",
        "print(f'PREDICTED OUTPUT:{y_out}')"
      ],
      "execution_count": 33,
      "outputs": [
        {
          "output_type": "stream",
          "text": [
            "ENTER THE URLhttps://images.all-free-download.com/images/graphicthumb/heavy_equipment_187329.jpg\n",
            "(368, 549, 3)\n",
            "PREDICTED OUTPUT:heavy truck\n"
          ],
          "name": "stdout"
        },
        {
          "output_type": "display_data",
          "data": {
            "image/png": "[encoded data removed]",
            "text/plain": [
              "<Figure size 432x288 with 1 Axes>"
            ]
          },
          "metadata": {
            "tags": [],
            "needs_background": "light"
          }
        }
      ]
    }
  ]
}